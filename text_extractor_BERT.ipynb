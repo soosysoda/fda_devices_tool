{
  "nbformat": 4,
  "nbformat_minor": 0,
  "metadata": {
    "colab": {
      "provenance": [],
      "gpuType": "T4",
      "authorship_tag": "ABX9TyNala6552bC7Ezh7dVxJO/v",
      "include_colab_link": true
    },
    "kernelspec": {
      "name": "python3",
      "display_name": "Python 3"
    },
    "language_info": {
      "name": "python"
    },
    "accelerator": "GPU"
  },
  "cells": [
    {
      "cell_type": "markdown",
      "metadata": {
        "id": "view-in-github",
        "colab_type": "text"
      },
      "source": [
        "<a href=\"https://colab.research.google.com/github/soosysoda/fda_devices_tool/blob/main/text_extractor_BERT.ipynb\" target=\"_parent\"><img src=\"https://colab.research.google.com/assets/colab-badge.svg\" alt=\"Open In Colab\"/></a>"
      ]
    },
    {
      "cell_type": "code",
      "execution_count": null,
      "metadata": {
        "colab": {
          "base_uri": "https://localhost:8080/"
        },
        "id": "JiCFGRO_HmcY",
        "outputId": "4a030a57-7232-4cf1-d3c3-54258e67424b"
      },
      "outputs": [
        {
          "output_type": "stream",
          "name": "stdout",
          "text": [
            "Requirement already satisfied: transformers in /usr/local/lib/python3.11/dist-packages (4.55.0)\n",
            "Requirement already satisfied: sentence-transformers in /usr/local/lib/python3.11/dist-packages (5.0.0)\n",
            "Requirement already satisfied: torch in /usr/local/lib/python3.11/dist-packages (2.6.0+cu124)\n",
            "Requirement already satisfied: torchvision in /usr/local/lib/python3.11/dist-packages (0.21.0+cu124)\n",
            "Requirement already satisfied: torchaudio in /usr/local/lib/python3.11/dist-packages (2.6.0+cu124)\n",
            "Requirement already satisfied: PyMuPDF in /usr/local/lib/python3.11/dist-packages (1.26.3)\n",
            "Requirement already satisfied: beautifulsoup4 in /usr/local/lib/python3.11/dist-packages (4.13.4)\n",
            "Requirement already satisfied: requests in /usr/local/lib/python3.11/dist-packages (2.32.3)\n",
            "Requirement already satisfied: filelock in /usr/local/lib/python3.11/dist-packages (from transformers) (3.18.0)\n",
            "Requirement already satisfied: huggingface-hub<1.0,>=0.34.0 in /usr/local/lib/python3.11/dist-packages (from transformers) (0.34.3)\n",
            "Requirement already satisfied: numpy>=1.17 in /usr/local/lib/python3.11/dist-packages (from transformers) (2.0.2)\n",
            "Requirement already satisfied: packaging>=20.0 in /usr/local/lib/python3.11/dist-packages (from transformers) (25.0)\n",
            "Requirement already satisfied: pyyaml>=5.1 in /usr/local/lib/python3.11/dist-packages (from transformers) (6.0.2)\n",
            "Requirement already satisfied: regex!=2019.12.17 in /usr/local/lib/python3.11/dist-packages (from transformers) (2024.11.6)\n",
            "Requirement already satisfied: tokenizers<0.22,>=0.21 in /usr/local/lib/python3.11/dist-packages (from transformers) (0.21.4)\n",
            "Requirement already satisfied: safetensors>=0.4.3 in /usr/local/lib/python3.11/dist-packages (from transformers) (0.6.1)\n",
            "Requirement already satisfied: tqdm>=4.27 in /usr/local/lib/python3.11/dist-packages (from transformers) (4.67.1)\n",
            "Requirement already satisfied: scikit-learn in /usr/local/lib/python3.11/dist-packages (from sentence-transformers) (1.6.1)\n",
            "Requirement already satisfied: scipy in /usr/local/lib/python3.11/dist-packages (from sentence-transformers) (1.16.1)\n",
            "Requirement already satisfied: Pillow in /usr/local/lib/python3.11/dist-packages (from sentence-transformers) (11.3.0)\n",
            "Requirement already satisfied: typing_extensions>=4.5.0 in /usr/local/lib/python3.11/dist-packages (from sentence-transformers) (4.14.1)\n",
            "Requirement already satisfied: networkx in /usr/local/lib/python3.11/dist-packages (from torch) (3.5)\n",
            "Requirement already satisfied: jinja2 in /usr/local/lib/python3.11/dist-packages (from torch) (3.1.6)\n",
            "Requirement already satisfied: fsspec in /usr/local/lib/python3.11/dist-packages (from torch) (2025.3.0)\n",
            "Requirement already satisfied: nvidia-cuda-nvrtc-cu12==12.4.127 in /usr/local/lib/python3.11/dist-packages (from torch) (12.4.127)\n",
            "Requirement already satisfied: nvidia-cuda-runtime-cu12==12.4.127 in /usr/local/lib/python3.11/dist-packages (from torch) (12.4.127)\n",
            "Requirement already satisfied: nvidia-cuda-cupti-cu12==12.4.127 in /usr/local/lib/python3.11/dist-packages (from torch) (12.4.127)\n",
            "Requirement already satisfied: nvidia-cudnn-cu12==9.1.0.70 in /usr/local/lib/python3.11/dist-packages (from torch) (9.1.0.70)\n",
            "Requirement already satisfied: nvidia-cublas-cu12==12.4.5.8 in /usr/local/lib/python3.11/dist-packages (from torch) (12.4.5.8)\n",
            "Requirement already satisfied: nvidia-cufft-cu12==11.2.1.3 in /usr/local/lib/python3.11/dist-packages (from torch) (11.2.1.3)\n",
            "Requirement already satisfied: nvidia-curand-cu12==10.3.5.147 in /usr/local/lib/python3.11/dist-packages (from torch) (10.3.5.147)\n",
            "Requirement already satisfied: nvidia-cusolver-cu12==11.6.1.9 in /usr/local/lib/python3.11/dist-packages (from torch) (11.6.1.9)\n",
            "Requirement already satisfied: nvidia-cusparse-cu12==12.3.1.170 in /usr/local/lib/python3.11/dist-packages (from torch) (12.3.1.170)\n",
            "Requirement already satisfied: nvidia-cusparselt-cu12==0.6.2 in /usr/local/lib/python3.11/dist-packages (from torch) (0.6.2)\n",
            "Requirement already satisfied: nvidia-nccl-cu12==2.21.5 in /usr/local/lib/python3.11/dist-packages (from torch) (2.21.5)\n",
            "Requirement already satisfied: nvidia-nvtx-cu12==12.4.127 in /usr/local/lib/python3.11/dist-packages (from torch) (12.4.127)\n",
            "Requirement already satisfied: nvidia-nvjitlink-cu12==12.4.127 in /usr/local/lib/python3.11/dist-packages (from torch) (12.4.127)\n",
            "Requirement already satisfied: triton==3.2.0 in /usr/local/lib/python3.11/dist-packages (from torch) (3.2.0)\n",
            "Requirement already satisfied: sympy==1.13.1 in /usr/local/lib/python3.11/dist-packages (from torch) (1.13.1)\n",
            "Requirement already satisfied: mpmath<1.4,>=1.1.0 in /usr/local/lib/python3.11/dist-packages (from sympy==1.13.1->torch) (1.3.0)\n",
            "Requirement already satisfied: soupsieve>1.2 in /usr/local/lib/python3.11/dist-packages (from beautifulsoup4) (2.7)\n",
            "Requirement already satisfied: charset-normalizer<4,>=2 in /usr/local/lib/python3.11/dist-packages (from requests) (3.4.2)\n",
            "Requirement already satisfied: idna<4,>=2.5 in /usr/local/lib/python3.11/dist-packages (from requests) (3.10)\n",
            "Requirement already satisfied: urllib3<3,>=1.21.1 in /usr/local/lib/python3.11/dist-packages (from requests) (2.5.0)\n",
            "Requirement already satisfied: certifi>=2017.4.17 in /usr/local/lib/python3.11/dist-packages (from requests) (2025.8.3)\n",
            "Requirement already satisfied: hf-xet<2.0.0,>=1.1.3 in /usr/local/lib/python3.11/dist-packages (from huggingface-hub<1.0,>=0.34.0->transformers) (1.1.7)\n",
            "Requirement already satisfied: MarkupSafe>=2.0 in /usr/local/lib/python3.11/dist-packages (from jinja2->torch) (3.0.2)\n",
            "Requirement already satisfied: joblib>=1.2.0 in /usr/local/lib/python3.11/dist-packages (from scikit-learn->sentence-transformers) (1.5.1)\n",
            "Requirement already satisfied: threadpoolctl>=3.1.0 in /usr/local/lib/python3.11/dist-packages (from scikit-learn->sentence-transformers) (3.6.0)\n"
          ]
        }
      ],
      "source": [
        "!pip install transformers sentence-transformers torch torchvision torchaudio PyMuPDF beautifulsoup4 requests"
      ]
    },
    {
      "cell_type": "code",
      "source": [
        "import fitz  # PyMuPDF\n",
        "import requests\n",
        "from bs4 import BeautifulSoup\n",
        "from urllib.parse import urljoin, urlparse\n",
        "from transformers import pipeline\n",
        "import torch\n",
        "import re\n",
        "from sentence_transformers import SentenceTransformer, util\n"
      ],
      "metadata": {
        "id": "WHj4gnl8IJyl"
      },
      "execution_count": null,
      "outputs": []
    },
    {
      "cell_type": "code",
      "source": [
        "device = 0 if torch.cuda.is_available() else -1\n",
        "gpu_status = \"GPU: \" + torch.cuda.get_device_name(0) if device == 0 else \"CPU\"\n",
        "print(f\"🔹 Running on {gpu_status}\")"
      ],
      "metadata": {
        "colab": {
          "base_uri": "https://localhost:8080/"
        },
        "id": "-n726tlfJMbX",
        "outputId": "911aea41-9232-4d3c-c3ed-1f889c974603"
      },
      "execution_count": null,
      "outputs": [
        {
          "output_type": "stream",
          "name": "stdout",
          "text": [
            "🔹 Running on GPU: Tesla T4\n"
          ]
        }
      ]
    },
    {
      "cell_type": "code",
      "source": [
        "qa_pipeline = pipeline(\"question-answering\", model=\"deepset/roberta-base-squad2\", device=device)\n",
        "embedder = SentenceTransformer(\"all-MiniLM-L6-v2\")"
      ],
      "metadata": {
        "colab": {
          "base_uri": "https://localhost:8080/"
        },
        "id": "HcpKmEoYJObW",
        "outputId": "f86f325f-93e9-4bbe-917b-5df83219a3d6"
      },
      "execution_count": null,
      "outputs": [
        {
          "output_type": "stream",
          "name": "stderr",
          "text": [
            "/usr/local/lib/python3.11/dist-packages/huggingface_hub/utils/_auth.py:94: UserWarning: \n",
            "The secret `HF_TOKEN` does not exist in your Colab secrets.\n",
            "To authenticate with the Hugging Face Hub, create a token in your settings tab (https://huggingface.co/settings/tokens), set it as secret in your Google Colab and restart your session.\n",
            "You will be able to reuse this secret in all of your notebooks.\n",
            "Please note that authentication is recommended but still optional to access public models or datasets.\n",
            "  warnings.warn(\n",
            "Device set to use cuda:0\n"
          ]
        }
      ]
    },
    {
      "cell_type": "code",
      "source": [
        "CATEGORY_KEYWORDS = {\n",
        "    \"Hardware\": [\"probe\", \"sensor\", \"ultrasound\", \"scanner\", \"device\", \"unit\", \"hardware\"],\n",
        "    \"Software Components\": [\"app\", \"module\", \"software\", \"system\", \"dashboard\", \"firmware\"],\n",
        "    \"AI Models\": [\"ai\", \"ml\", \"classifier\", \"neural\", \"bert\", \"deep learning\", \"model\"],\n",
        "    \"Data Pipelines\": [\"FHIR\", \"ETL\", \"stream\", \"cloud\", \"data ingestion\", \"API\"],\n",
        "    \"User Interface\": [\"UI\", \"interface\", \"touchscreen\", \"display\", \"user input\", \"dashboard\"],\n",
        "    \"Integration\": [\"EHR\", \"PACS\", \"HL7\", \"connect\", \"integration\", \"platform\"]\n",
        "}\n",
        "CATEGORY_EMBEDDINGS = {\n",
        "    category: embedder.encode(words, convert_to_tensor=True)\n",
        "    for category, words in CATEGORY_KEYWORDS.items()\n",
        "}"
      ],
      "metadata": {
        "id": "u8HCmMtvJWRI"
      },
      "execution_count": null,
      "outputs": []
    },
    {
      "cell_type": "code",
      "source": [
        "def extract_pdf_text(pdf_path):\n",
        "    doc = fitz.open(pdf_path)\n",
        "    return \"\\n\".join([page.get_text() for page in doc])\n",
        "\n",
        "def get_all_internal_links(start_url, domain, max_pages=5, timeout=6):\n",
        "    visited = set()\n",
        "    to_visit = [start_url]\n",
        "    found = []\n",
        "\n",
        "    while to_visit and len(found) < max_pages:\n",
        "        url = to_visit.pop(0)  # FIFO for breadth-first crawling\n",
        "        if url in visited:\n",
        "            continue\n",
        "        visited.add(url)\n",
        "\n",
        "        try:\n",
        "            res = requests.get(url, timeout=timeout, headers={\"User-Agent\": \"Mozilla/5.0\"})\n",
        "            if res.status_code != 200 or \"text/html\" not in res.headers.get(\"Content-Type\", \"\"):\n",
        "                continue\n",
        "\n",
        "            soup = BeautifulSoup(res.text, \"html.parser\")\n",
        "            text = soup.get_text(separator=\" \", strip=True)\n",
        "            text = re.sub(r\"\\s+\", \" \", text)\n",
        "            found.append((url, text))\n",
        "\n",
        "            for a in soup.find_all(\"a\", href=True):\n",
        "                full_url = urljoin(url, a[\"href\"])\n",
        "                if (\n",
        "                    full_url.startswith((\"http://\", \"https://\"))\n",
        "                    and urlparse(full_url).netloc == domain\n",
        "                    and full_url not in visited\n",
        "                ):\n",
        "                    to_visit.append(full_url)\n",
        "\n",
        "        except requests.RequestException:\n",
        "            continue\n",
        "\n",
        "    return found\n",
        "\n",
        "\n",
        "def extract_design_with_bert(text):\n",
        "    question = \"What is the system design of the medical device?\"\n",
        "    answers = []\n",
        "    chunks = [text[i:i+1500] for i in range(0, len(text), 1500)]\n",
        "    for chunk in chunks:\n",
        "        result = qa_pipeline(question=question, context=chunk)\n",
        "        if result and result['score'] > 0.05:\n",
        "            answers.append(result['answer'])\n",
        "    return list(set(answers))"
      ],
      "metadata": {
        "id": "A7aFPj4TJcAX"
      },
      "execution_count": null,
      "outputs": []
    },
    {
      "cell_type": "code",
      "source": [
        "def normalize_keywords(raw_texts):\n",
        "    bag = set()\n",
        "    for raw in raw_texts:\n",
        "        if not raw:\n",
        "            continue\n",
        "        parts = re.split(r\"[,;\\n]+\", raw)\n",
        "        for p in parts:\n",
        "            kw = re.sub(r\"\\s+\", \" \", p).strip(\" -–—_,.;:()[]\").strip()\n",
        "            if kw and 2 <= len(kw) < 120:\n",
        "                bag.add(kw.lower())\n",
        "    return sorted(bag)\n",
        "\n",
        "def classify_keyword(keyword):\n",
        "    kw_vec = embedder.encode(keyword, convert_to_tensor=True)\n",
        "    max_sim = -1\n",
        "    best_cat = \"Uncategorized\"\n",
        "    for category, emb_list in CATEGORY_EMBEDDINGS.items():\n",
        "        sim_scores = util.cos_sim(kw_vec, emb_list)\n",
        "        top_score = sim_scores.max().item()\n",
        "        if top_score > max_sim:\n",
        "            max_sim = top_score\n",
        "            best_cat = category\n",
        "    return best_cat\n",
        "\n",
        "def classify_keywords_bulk(keywords):\n",
        "    result = {k: [] for k in CATEGORY_KEYWORDS}\n",
        "    result[\"Uncategorized\"] = []\n",
        "    for kw in keywords:\n",
        "        cat = classify_keyword(kw)\n",
        "        result[cat].append(kw)\n",
        "    return result\n",
        "\n",
        "def format_to_markdown_table(classified):\n",
        "    md = \"| Category | Keywords (comma separated) |\\n|----------|------------------------------|\\n\"\n",
        "    for cat in list(CATEGORY_KEYWORDS.keys()) + [\"Uncategorized\"]:\n",
        "        kws = \", \".join(sorted(set(classified.get(cat, []))))\n",
        "        md += f\"| {cat} | {kws} |\\n\"\n",
        "    return md"
      ],
      "metadata": {
        "id": "zcADxILQJjnG"
      },
      "execution_count": null,
      "outputs": []
    },
    {
      "cell_type": "code",
      "source": [
        "from google.colab import files\n",
        "uploaded = files.upload()\n",
        "pdf_path = list(uploaded.keys())[0]"
      ],
      "metadata": {
        "colab": {
          "base_uri": "https://localhost:8080/",
          "height": 73
        },
        "id": "A6Y6KUzjJqgo",
        "outputId": "025d4b55-e8ca-421f-9389-2fde880f7fc5"
      },
      "execution_count": null,
      "outputs": [
        {
          "output_type": "display_data",
          "data": {
            "text/plain": [
              "<IPython.core.display.HTML object>"
            ],
            "text/html": [
              "\n",
              "     <input type=\"file\" id=\"files-5ac5422c-ecca-40f1-a424-e10077452db6\" name=\"files[]\" multiple disabled\n",
              "        style=\"border:none\" />\n",
              "     <output id=\"result-5ac5422c-ecca-40f1-a424-e10077452db6\">\n",
              "      Upload widget is only available when the cell has been executed in the\n",
              "      current browser session. Please rerun this cell to enable.\n",
              "      </output>\n",
              "      <script>// Copyright 2017 Google LLC\n",
              "//\n",
              "// Licensed under the Apache License, Version 2.0 (the \"License\");\n",
              "// you may not use this file except in compliance with the License.\n",
              "// You may obtain a copy of the License at\n",
              "//\n",
              "//      http://www.apache.org/licenses/LICENSE-2.0\n",
              "//\n",
              "// Unless required by applicable law or agreed to in writing, software\n",
              "// distributed under the License is distributed on an \"AS IS\" BASIS,\n",
              "// WITHOUT WARRANTIES OR CONDITIONS OF ANY KIND, either express or implied.\n",
              "// See the License for the specific language governing permissions and\n",
              "// limitations under the License.\n",
              "\n",
              "/**\n",
              " * @fileoverview Helpers for google.colab Python module.\n",
              " */\n",
              "(function(scope) {\n",
              "function span(text, styleAttributes = {}) {\n",
              "  const element = document.createElement('span');\n",
              "  element.textContent = text;\n",
              "  for (const key of Object.keys(styleAttributes)) {\n",
              "    element.style[key] = styleAttributes[key];\n",
              "  }\n",
              "  return element;\n",
              "}\n",
              "\n",
              "// Max number of bytes which will be uploaded at a time.\n",
              "const MAX_PAYLOAD_SIZE = 100 * 1024;\n",
              "\n",
              "function _uploadFiles(inputId, outputId) {\n",
              "  const steps = uploadFilesStep(inputId, outputId);\n",
              "  const outputElement = document.getElementById(outputId);\n",
              "  // Cache steps on the outputElement to make it available for the next call\n",
              "  // to uploadFilesContinue from Python.\n",
              "  outputElement.steps = steps;\n",
              "\n",
              "  return _uploadFilesContinue(outputId);\n",
              "}\n",
              "\n",
              "// This is roughly an async generator (not supported in the browser yet),\n",
              "// where there are multiple asynchronous steps and the Python side is going\n",
              "// to poll for completion of each step.\n",
              "// This uses a Promise to block the python side on completion of each step,\n",
              "// then passes the result of the previous step as the input to the next step.\n",
              "function _uploadFilesContinue(outputId) {\n",
              "  const outputElement = document.getElementById(outputId);\n",
              "  const steps = outputElement.steps;\n",
              "\n",
              "  const next = steps.next(outputElement.lastPromiseValue);\n",
              "  return Promise.resolve(next.value.promise).then((value) => {\n",
              "    // Cache the last promise value to make it available to the next\n",
              "    // step of the generator.\n",
              "    outputElement.lastPromiseValue = value;\n",
              "    return next.value.response;\n",
              "  });\n",
              "}\n",
              "\n",
              "/**\n",
              " * Generator function which is called between each async step of the upload\n",
              " * process.\n",
              " * @param {string} inputId Element ID of the input file picker element.\n",
              " * @param {string} outputId Element ID of the output display.\n",
              " * @return {!Iterable<!Object>} Iterable of next steps.\n",
              " */\n",
              "function* uploadFilesStep(inputId, outputId) {\n",
              "  const inputElement = document.getElementById(inputId);\n",
              "  inputElement.disabled = false;\n",
              "\n",
              "  const outputElement = document.getElementById(outputId);\n",
              "  outputElement.innerHTML = '';\n",
              "\n",
              "  const pickedPromise = new Promise((resolve) => {\n",
              "    inputElement.addEventListener('change', (e) => {\n",
              "      resolve(e.target.files);\n",
              "    });\n",
              "  });\n",
              "\n",
              "  const cancel = document.createElement('button');\n",
              "  inputElement.parentElement.appendChild(cancel);\n",
              "  cancel.textContent = 'Cancel upload';\n",
              "  const cancelPromise = new Promise((resolve) => {\n",
              "    cancel.onclick = () => {\n",
              "      resolve(null);\n",
              "    };\n",
              "  });\n",
              "\n",
              "  // Wait for the user to pick the files.\n",
              "  const files = yield {\n",
              "    promise: Promise.race([pickedPromise, cancelPromise]),\n",
              "    response: {\n",
              "      action: 'starting',\n",
              "    }\n",
              "  };\n",
              "\n",
              "  cancel.remove();\n",
              "\n",
              "  // Disable the input element since further picks are not allowed.\n",
              "  inputElement.disabled = true;\n",
              "\n",
              "  if (!files) {\n",
              "    return {\n",
              "      response: {\n",
              "        action: 'complete',\n",
              "      }\n",
              "    };\n",
              "  }\n",
              "\n",
              "  for (const file of files) {\n",
              "    const li = document.createElement('li');\n",
              "    li.append(span(file.name, {fontWeight: 'bold'}));\n",
              "    li.append(span(\n",
              "        `(${file.type || 'n/a'}) - ${file.size} bytes, ` +\n",
              "        `last modified: ${\n",
              "            file.lastModifiedDate ? file.lastModifiedDate.toLocaleDateString() :\n",
              "                                    'n/a'} - `));\n",
              "    const percent = span('0% done');\n",
              "    li.appendChild(percent);\n",
              "\n",
              "    outputElement.appendChild(li);\n",
              "\n",
              "    const fileDataPromise = new Promise((resolve) => {\n",
              "      const reader = new FileReader();\n",
              "      reader.onload = (e) => {\n",
              "        resolve(e.target.result);\n",
              "      };\n",
              "      reader.readAsArrayBuffer(file);\n",
              "    });\n",
              "    // Wait for the data to be ready.\n",
              "    let fileData = yield {\n",
              "      promise: fileDataPromise,\n",
              "      response: {\n",
              "        action: 'continue',\n",
              "      }\n",
              "    };\n",
              "\n",
              "    // Use a chunked sending to avoid message size limits. See b/62115660.\n",
              "    let position = 0;\n",
              "    do {\n",
              "      const length = Math.min(fileData.byteLength - position, MAX_PAYLOAD_SIZE);\n",
              "      const chunk = new Uint8Array(fileData, position, length);\n",
              "      position += length;\n",
              "\n",
              "      const base64 = btoa(String.fromCharCode.apply(null, chunk));\n",
              "      yield {\n",
              "        response: {\n",
              "          action: 'append',\n",
              "          file: file.name,\n",
              "          data: base64,\n",
              "        },\n",
              "      };\n",
              "\n",
              "      let percentDone = fileData.byteLength === 0 ?\n",
              "          100 :\n",
              "          Math.round((position / fileData.byteLength) * 100);\n",
              "      percent.textContent = `${percentDone}% done`;\n",
              "\n",
              "    } while (position < fileData.byteLength);\n",
              "  }\n",
              "\n",
              "  // All done.\n",
              "  yield {\n",
              "    response: {\n",
              "      action: 'complete',\n",
              "    }\n",
              "  };\n",
              "}\n",
              "\n",
              "scope.google = scope.google || {};\n",
              "scope.google.colab = scope.google.colab || {};\n",
              "scope.google.colab._files = {\n",
              "  _uploadFiles,\n",
              "  _uploadFilesContinue,\n",
              "};\n",
              "})(self);\n",
              "</script> "
            ]
          },
          "metadata": {}
        },
        {
          "output_type": "stream",
          "name": "stdout",
          "text": [
            "Saving K250005.pdf to K250005 (1).pdf\n"
          ]
        }
      ]
    },
    {
      "cell_type": "code",
      "source": [
        "print(\"\\n🔍 Extracting from PDF...\")\n",
        "pdf_text = extract_pdf_text(pdf_path)\n",
        "pdf_design_info = extract_design_with_bert(pdf_text)\n",
        "for para in pdf_design_info:\n",
        "    print(f\"✅ PDF: {para}\")"
      ],
      "metadata": {
        "colab": {
          "base_uri": "https://localhost:8080/"
        },
        "id": "PwzZ_vi0Jy8i",
        "outputId": "d1a9ed43-6ee2-419d-f44b-2b43a23982a5"
      },
      "execution_count": null,
      "outputs": [
        {
          "output_type": "stream",
          "name": "stdout",
          "text": [
            "\n",
            "🔍 Extracting from PDF...\n",
            "✅ PDF: Medical Image Management And Processing System\n"
          ]
        }
      ]
    },
    {
      "cell_type": "code",
      "source": [
        "pdf_keywords = normalize_keywords(pdf_design_info)"
      ],
      "metadata": {
        "id": "ZL7CmvTKJ_l3"
      },
      "execution_count": null,
      "outputs": []
    },
    {
      "cell_type": "code",
      "source": [
        "website_url = input(\"\\n🌐 Enter official device website URL (or press Enter to skip): \").strip()\n",
        "web_keywords = []\n",
        "if website_url:\n",
        "    domain = urlparse(website_url).netloc\n",
        "    webpages = get_all_internal_links(website_url, domain, 10, 10)\n",
        "    for url, content in webpages:\n",
        "        design_info = extract_design_with_bert(content)\n",
        "        for chunk in design_info:\n",
        "            print(f\"✅ {url}: {chunk}\")\n",
        "        web_keywords += normalize_keywords(design_info)"
      ],
      "metadata": {
        "colab": {
          "base_uri": "https://localhost:8080/"
        },
        "id": "jkUIXzbEKAhD",
        "outputId": "67d344be-068e-4716-bdd7-fdccbee959cd"
      },
      "execution_count": null,
      "outputs": [
        {
          "name": "stdout",
          "output_type": "stream",
          "text": [
            "\n",
            "🌐 Enter official device website URL (or press Enter to skip): https://www.ewoosoft.com/\n"
          ]
        }
      ]
    },
    {
      "cell_type": "code",
      "source": [
        "all_keywords = sorted(set(pdf_keywords + web_keywords))\n",
        "print(all_keywords)"
      ],
      "metadata": {
        "colab": {
          "base_uri": "https://localhost:8080/"
        },
        "id": "s1dOo114OKuK",
        "outputId": "3c387328-7e78-4bd3-fe13-7f6ec292a46f"
      },
      "execution_count": null,
      "outputs": [
        {
          "output_type": "stream",
          "name": "stdout",
          "text": [
            "['medical image management and processing system']\n"
          ]
        }
      ]
    },
    {
      "cell_type": "code",
      "source": [
        "classified = classify_keywords_bulk(all_keywords)\n",
        "print(\"\\n📊 Classified Keywords Table:\\n\")\n",
        "print(format_to_markdown_table(classified))"
      ],
      "metadata": {
        "colab": {
          "base_uri": "https://localhost:8080/"
        },
        "id": "rifoyIlvOSxJ",
        "outputId": "17089d9c-232d-40c4-ebc8-c632a206a981"
      },
      "execution_count": null,
      "outputs": [
        {
          "output_type": "stream",
          "name": "stdout",
          "text": [
            "\n",
            "📊 Classified Keywords Table:\n",
            "\n",
            "| Category | Keywords (comma separated) |\n",
            "|----------|------------------------------|\n",
            "| Hardware | medical image management and processing system |\n",
            "| Software Components |  |\n",
            "| AI Models |  |\n",
            "| Data Pipelines |  |\n",
            "| User Interface |  |\n",
            "| Integration |  |\n",
            "| Uncategorized |  |\n",
            "\n"
          ]
        }
      ]
    }
  ]
}