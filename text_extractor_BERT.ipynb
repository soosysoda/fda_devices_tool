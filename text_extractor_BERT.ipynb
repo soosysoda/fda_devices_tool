{
  "cells": [
    {
      "cell_type": "code",
      "execution_count": 5,
      "metadata": {
        "colab": {
          "base_uri": "https://localhost:8080/"
        },
        "id": "JiCFGRO_HmcY",
        "outputId": "6dd5b683-1586-4872-a66b-4365c031eb4f"
      },
      "outputs": [
        {
          "output_type": "stream",
          "name": "stdout",
          "text": [
            "Requirement already satisfied: transformers in /usr/local/lib/python3.12/dist-packages (4.55.2)\n",
            "Requirement already satisfied: sentence-transformers in /usr/local/lib/python3.12/dist-packages (5.1.0)\n",
            "Requirement already satisfied: torch in /usr/local/lib/python3.12/dist-packages (2.8.0+cu126)\n",
            "Requirement already satisfied: torchvision in /usr/local/lib/python3.12/dist-packages (0.23.0+cu126)\n",
            "Requirement already satisfied: torchaudio in /usr/local/lib/python3.12/dist-packages (2.8.0+cu126)\n",
            "Collecting PyMuPDF\n",
            "  Downloading pymupdf-1.26.3-cp39-abi3-manylinux_2_28_x86_64.whl.metadata (3.4 kB)\n",
            "Requirement already satisfied: beautifulsoup4 in /usr/local/lib/python3.12/dist-packages (4.13.4)\n",
            "Requirement already satisfied: requests in /usr/local/lib/python3.12/dist-packages (2.32.4)\n",
            "Requirement already satisfied: filelock in /usr/local/lib/python3.12/dist-packages (from transformers) (3.19.1)\n",
            "Requirement already satisfied: huggingface-hub<1.0,>=0.34.0 in /usr/local/lib/python3.12/dist-packages (from transformers) (0.34.4)\n",
            "Requirement already satisfied: numpy>=1.17 in /usr/local/lib/python3.12/dist-packages (from transformers) (2.0.2)\n",
            "Requirement already satisfied: packaging>=20.0 in /usr/local/lib/python3.12/dist-packages (from transformers) (25.0)\n",
            "Requirement already satisfied: pyyaml>=5.1 in /usr/local/lib/python3.12/dist-packages (from transformers) (6.0.2)\n",
            "Requirement already satisfied: regex!=2019.12.17 in /usr/local/lib/python3.12/dist-packages (from transformers) (2024.11.6)\n",
            "Requirement already satisfied: tokenizers<0.22,>=0.21 in /usr/local/lib/python3.12/dist-packages (from transformers) (0.21.4)\n",
            "Requirement already satisfied: safetensors>=0.4.3 in /usr/local/lib/python3.12/dist-packages (from transformers) (0.6.2)\n",
            "Requirement already satisfied: tqdm>=4.27 in /usr/local/lib/python3.12/dist-packages (from transformers) (4.67.1)\n",
            "Requirement already satisfied: scikit-learn in /usr/local/lib/python3.12/dist-packages (from sentence-transformers) (1.6.1)\n",
            "Requirement already satisfied: scipy in /usr/local/lib/python3.12/dist-packages (from sentence-transformers) (1.16.1)\n",
            "Requirement already satisfied: Pillow in /usr/local/lib/python3.12/dist-packages (from sentence-transformers) (11.3.0)\n",
            "Requirement already satisfied: typing_extensions>=4.5.0 in /usr/local/lib/python3.12/dist-packages (from sentence-transformers) (4.14.1)\n",
            "Requirement already satisfied: setuptools in /usr/local/lib/python3.12/dist-packages (from torch) (75.2.0)\n",
            "Requirement already satisfied: sympy>=1.13.3 in /usr/local/lib/python3.12/dist-packages (from torch) (1.13.3)\n",
            "Requirement already satisfied: networkx in /usr/local/lib/python3.12/dist-packages (from torch) (3.5)\n",
            "Requirement already satisfied: jinja2 in /usr/local/lib/python3.12/dist-packages (from torch) (3.1.6)\n",
            "Requirement already satisfied: fsspec in /usr/local/lib/python3.12/dist-packages (from torch) (2025.3.0)\n",
            "Requirement already satisfied: nvidia-cuda-nvrtc-cu12==12.6.77 in /usr/local/lib/python3.12/dist-packages (from torch) (12.6.77)\n",
            "Requirement already satisfied: nvidia-cuda-runtime-cu12==12.6.77 in /usr/local/lib/python3.12/dist-packages (from torch) (12.6.77)\n",
            "Requirement already satisfied: nvidia-cuda-cupti-cu12==12.6.80 in /usr/local/lib/python3.12/dist-packages (from torch) (12.6.80)\n",
            "Requirement already satisfied: nvidia-cudnn-cu12==9.10.2.21 in /usr/local/lib/python3.12/dist-packages (from torch) (9.10.2.21)\n",
            "Requirement already satisfied: nvidia-cublas-cu12==12.6.4.1 in /usr/local/lib/python3.12/dist-packages (from torch) (12.6.4.1)\n",
            "Requirement already satisfied: nvidia-cufft-cu12==11.3.0.4 in /usr/local/lib/python3.12/dist-packages (from torch) (11.3.0.4)\n",
            "Requirement already satisfied: nvidia-curand-cu12==10.3.7.77 in /usr/local/lib/python3.12/dist-packages (from torch) (10.3.7.77)\n",
            "Requirement already satisfied: nvidia-cusolver-cu12==11.7.1.2 in /usr/local/lib/python3.12/dist-packages (from torch) (11.7.1.2)\n",
            "Requirement already satisfied: nvidia-cusparse-cu12==12.5.4.2 in /usr/local/lib/python3.12/dist-packages (from torch) (12.5.4.2)\n",
            "Requirement already satisfied: nvidia-cusparselt-cu12==0.7.1 in /usr/local/lib/python3.12/dist-packages (from torch) (0.7.1)\n",
            "Requirement already satisfied: nvidia-nccl-cu12==2.27.3 in /usr/local/lib/python3.12/dist-packages (from torch) (2.27.3)\n",
            "Requirement already satisfied: nvidia-nvtx-cu12==12.6.77 in /usr/local/lib/python3.12/dist-packages (from torch) (12.6.77)\n",
            "Requirement already satisfied: nvidia-nvjitlink-cu12==12.6.85 in /usr/local/lib/python3.12/dist-packages (from torch) (12.6.85)\n",
            "Requirement already satisfied: nvidia-cufile-cu12==1.11.1.6 in /usr/local/lib/python3.12/dist-packages (from torch) (1.11.1.6)\n",
            "Requirement already satisfied: triton==3.4.0 in /usr/local/lib/python3.12/dist-packages (from torch) (3.4.0)\n",
            "Requirement already satisfied: soupsieve>1.2 in /usr/local/lib/python3.12/dist-packages (from beautifulsoup4) (2.7)\n",
            "Requirement already satisfied: charset_normalizer<4,>=2 in /usr/local/lib/python3.12/dist-packages (from requests) (3.4.3)\n",
            "Requirement already satisfied: idna<4,>=2.5 in /usr/local/lib/python3.12/dist-packages (from requests) (3.10)\n",
            "Requirement already satisfied: urllib3<3,>=1.21.1 in /usr/local/lib/python3.12/dist-packages (from requests) (2.5.0)\n",
            "Requirement already satisfied: certifi>=2017.4.17 in /usr/local/lib/python3.12/dist-packages (from requests) (2025.8.3)\n",
            "Requirement already satisfied: hf-xet<2.0.0,>=1.1.3 in /usr/local/lib/python3.12/dist-packages (from huggingface-hub<1.0,>=0.34.0->transformers) (1.1.7)\n",
            "Requirement already satisfied: mpmath<1.4,>=1.1.0 in /usr/local/lib/python3.12/dist-packages (from sympy>=1.13.3->torch) (1.3.0)\n",
            "Requirement already satisfied: MarkupSafe>=2.0 in /usr/local/lib/python3.12/dist-packages (from jinja2->torch) (3.0.2)\n",
            "Requirement already satisfied: joblib>=1.2.0 in /usr/local/lib/python3.12/dist-packages (from scikit-learn->sentence-transformers) (1.5.1)\n",
            "Requirement already satisfied: threadpoolctl>=3.1.0 in /usr/local/lib/python3.12/dist-packages (from scikit-learn->sentence-transformers) (3.6.0)\n",
            "Downloading pymupdf-1.26.3-cp39-abi3-manylinux_2_28_x86_64.whl (24.1 MB)\n",
            "\u001b[2K   \u001b[90m━━━━━━━━━━━━━━━━━━━━━━━━━━━━━━━━━━━━━━━━\u001b[0m \u001b[32m24.1/24.1 MB\u001b[0m \u001b[31m80.4 MB/s\u001b[0m eta \u001b[36m0:00:00\u001b[0m\n",
            "\u001b[?25hInstalling collected packages: PyMuPDF\n",
            "Successfully installed PyMuPDF-1.26.3\n"
          ]
        }
      ],
      "source": [
        "!pip install transformers sentence-transformers torch torchvision torchaudio PyMuPDF beautifulsoup4 requests"
      ]
    },
    {
      "cell_type": "code",
      "execution_count": 6,
      "metadata": {
        "id": "WHj4gnl8IJyl"
      },
      "outputs": [],
      "source": [
        "import fitz  # PyMuPDF\n",
        "import requests\n",
        "from bs4 import BeautifulSoup\n",
        "from urllib.parse import urljoin, urlparse\n",
        "from transformers import pipeline\n",
        "import torch\n",
        "import re\n",
        "from sentence_transformers import SentenceTransformer, util\n"
      ]
    },
    {
      "cell_type": "code",
      "execution_count": 7,
      "metadata": {
        "colab": {
          "base_uri": "https://localhost:8080/"
        },
        "id": "OZQvevGitDny",
        "outputId": "0e150e17-7559-429c-bf1f-a23b2646c90f"
      },
      "outputs": [
        {
          "output_type": "stream",
          "name": "stdout",
          "text": [
            " Running on GPU: Tesla T4\n"
          ]
        }
      ],
      "source": [
        "device = 0 if torch.cuda.is_available() else -1\n",
        "gpu_status = \"GPU: \" + torch.cuda.get_device_name(0) if device == 0 else \"CPU\"\n",
        "print(f\" Running on {gpu_status}\")"
      ]
    },
    {
      "cell_type": "code",
      "execution_count": null,
      "metadata": {
        "colab": {
          "base_uri": "https://localhost:8080/",
          "height": 73
        },
        "id": "Tiu2K2U2kkTi",
        "outputId": "6c647ae0-c067-46b1-83f8-cfcd046228ad"
      },
      "outputs": [
        {
          "output_type": "display_data",
          "data": {
            "text/plain": [
              "<IPython.core.display.HTML object>"
            ],
            "text/html": [
              "\n",
              "     <input type=\"file\" id=\"files-187c378e-eb3a-4d55-a7b1-aca9f7d3da05\" name=\"files[]\" multiple disabled\n",
              "        style=\"border:none\" />\n",
              "     <output id=\"result-187c378e-eb3a-4d55-a7b1-aca9f7d3da05\">\n",
              "      Upload widget is only available when the cell has been executed in the\n",
              "      current browser session. Please rerun this cell to enable.\n",
              "      </output>\n",
              "      <script>// Copyright 2017 Google LLC\n",
              "//\n",
              "// Licensed under the Apache License, Version 2.0 (the \"License\");\n",
              "// you may not use this file except in compliance with the License.\n",
              "// You may obtain a copy of the License at\n",
              "//\n",
              "//      http://www.apache.org/licenses/LICENSE-2.0\n",
              "//\n",
              "// Unless required by applicable law or agreed to in writing, software\n",
              "// distributed under the License is distributed on an \"AS IS\" BASIS,\n",
              "// WITHOUT WARRANTIES OR CONDITIONS OF ANY KIND, either express or implied.\n",
              "// See the License for the specific language governing permissions and\n",
              "// limitations under the License.\n",
              "\n",
              "/**\n",
              " * @fileoverview Helpers for google.colab Python module.\n",
              " */\n",
              "(function(scope) {\n",
              "function span(text, styleAttributes = {}) {\n",
              "  const element = document.createElement('span');\n",
              "  element.textContent = text;\n",
              "  for (const key of Object.keys(styleAttributes)) {\n",
              "    element.style[key] = styleAttributes[key];\n",
              "  }\n",
              "  return element;\n",
              "}\n",
              "\n",
              "// Max number of bytes which will be uploaded at a time.\n",
              "const MAX_PAYLOAD_SIZE = 100 * 1024;\n",
              "\n",
              "function _uploadFiles(inputId, outputId) {\n",
              "  const steps = uploadFilesStep(inputId, outputId);\n",
              "  const outputElement = document.getElementById(outputId);\n",
              "  // Cache steps on the outputElement to make it available for the next call\n",
              "  // to uploadFilesContinue from Python.\n",
              "  outputElement.steps = steps;\n",
              "\n",
              "  return _uploadFilesContinue(outputId);\n",
              "}\n",
              "\n",
              "// This is roughly an async generator (not supported in the browser yet),\n",
              "// where there are multiple asynchronous steps and the Python side is going\n",
              "// to poll for completion of each step.\n",
              "// This uses a Promise to block the python side on completion of each step,\n",
              "// then passes the result of the previous step as the input to the next step.\n",
              "function _uploadFilesContinue(outputId) {\n",
              "  const outputElement = document.getElementById(outputId);\n",
              "  const steps = outputElement.steps;\n",
              "\n",
              "  const next = steps.next(outputElement.lastPromiseValue);\n",
              "  return Promise.resolve(next.value.promise).then((value) => {\n",
              "    // Cache the last promise value to make it available to the next\n",
              "    // step of the generator.\n",
              "    outputElement.lastPromiseValue = value;\n",
              "    return next.value.response;\n",
              "  });\n",
              "}\n",
              "\n",
              "/**\n",
              " * Generator function which is called between each async step of the upload\n",
              " * process.\n",
              " * @param {string} inputId Element ID of the input file picker element.\n",
              " * @param {string} outputId Element ID of the output display.\n",
              " * @return {!Iterable<!Object>} Iterable of next steps.\n",
              " */\n",
              "function* uploadFilesStep(inputId, outputId) {\n",
              "  const inputElement = document.getElementById(inputId);\n",
              "  inputElement.disabled = false;\n",
              "\n",
              "  const outputElement = document.getElementById(outputId);\n",
              "  outputElement.innerHTML = '';\n",
              "\n",
              "  const pickedPromise = new Promise((resolve) => {\n",
              "    inputElement.addEventListener('change', (e) => {\n",
              "      resolve(e.target.files);\n",
              "    });\n",
              "  });\n",
              "\n",
              "  const cancel = document.createElement('button');\n",
              "  inputElement.parentElement.appendChild(cancel);\n",
              "  cancel.textContent = 'Cancel upload';\n",
              "  const cancelPromise = new Promise((resolve) => {\n",
              "    cancel.onclick = () => {\n",
              "      resolve(null);\n",
              "    };\n",
              "  });\n",
              "\n",
              "  // Wait for the user to pick the files.\n",
              "  const files = yield {\n",
              "    promise: Promise.race([pickedPromise, cancelPromise]),\n",
              "    response: {\n",
              "      action: 'starting',\n",
              "    }\n",
              "  };\n",
              "\n",
              "  cancel.remove();\n",
              "\n",
              "  // Disable the input element since further picks are not allowed.\n",
              "  inputElement.disabled = true;\n",
              "\n",
              "  if (!files) {\n",
              "    return {\n",
              "      response: {\n",
              "        action: 'complete',\n",
              "      }\n",
              "    };\n",
              "  }\n",
              "\n",
              "  for (const file of files) {\n",
              "    const li = document.createElement('li');\n",
              "    li.append(span(file.name, {fontWeight: 'bold'}));\n",
              "    li.append(span(\n",
              "        `(${file.type || 'n/a'}) - ${file.size} bytes, ` +\n",
              "        `last modified: ${\n",
              "            file.lastModifiedDate ? file.lastModifiedDate.toLocaleDateString() :\n",
              "                                    'n/a'} - `));\n",
              "    const percent = span('0% done');\n",
              "    li.appendChild(percent);\n",
              "\n",
              "    outputElement.appendChild(li);\n",
              "\n",
              "    const fileDataPromise = new Promise((resolve) => {\n",
              "      const reader = new FileReader();\n",
              "      reader.onload = (e) => {\n",
              "        resolve(e.target.result);\n",
              "      };\n",
              "      reader.readAsArrayBuffer(file);\n",
              "    });\n",
              "    // Wait for the data to be ready.\n",
              "    let fileData = yield {\n",
              "      promise: fileDataPromise,\n",
              "      response: {\n",
              "        action: 'continue',\n",
              "      }\n",
              "    };\n",
              "\n",
              "    // Use a chunked sending to avoid message size limits. See b/62115660.\n",
              "    let position = 0;\n",
              "    do {\n",
              "      const length = Math.min(fileData.byteLength - position, MAX_PAYLOAD_SIZE);\n",
              "      const chunk = new Uint8Array(fileData, position, length);\n",
              "      position += length;\n",
              "\n",
              "      const base64 = btoa(String.fromCharCode.apply(null, chunk));\n",
              "      yield {\n",
              "        response: {\n",
              "          action: 'append',\n",
              "          file: file.name,\n",
              "          data: base64,\n",
              "        },\n",
              "      };\n",
              "\n",
              "      let percentDone = fileData.byteLength === 0 ?\n",
              "          100 :\n",
              "          Math.round((position / fileData.byteLength) * 100);\n",
              "      percent.textContent = `${percentDone}% done`;\n",
              "\n",
              "    } while (position < fileData.byteLength);\n",
              "  }\n",
              "\n",
              "  // All done.\n",
              "  yield {\n",
              "    response: {\n",
              "      action: 'complete',\n",
              "    }\n",
              "  };\n",
              "}\n",
              "\n",
              "scope.google = scope.google || {};\n",
              "scope.google.colab = scope.google.colab || {};\n",
              "scope.google.colab._files = {\n",
              "  _uploadFiles,\n",
              "  _uploadFilesContinue,\n",
              "};\n",
              "})(self);\n",
              "</script> "
            ]
          },
          "metadata": {}
        },
        {
          "output_type": "stream",
          "name": "stdout",
          "text": [
            "Saving fda_bert_model.zip to fda_bert_model.zip\n"
          ]
        }
      ],
      "source": [
        "from google.colab import drive\n",
        "uploaded = files.upload()"
      ]
    },
    {
      "cell_type": "code",
      "execution_count": 4,
      "metadata": {
        "colab": {
          "base_uri": "https://localhost:8080/"
        },
        "id": "goilOfXkqw3c",
        "outputId": "8411a25d-4958-4f90-ed76-0bc7bbed16d0"
      },
      "outputs": [
        {
          "output_type": "stream",
          "name": "stdout",
          "text": [
            "Archive:  /content/drive/MyDrive/fda_bert_model.zip\n",
            "   creating: /content/drive/MyDrive/fda_bert_model/fda_bert_model/\n",
            "  inflating: /content/drive/MyDrive/fda_bert_model/fda_bert_model/tokenizer_config.json  \n",
            "  inflating: /content/drive/MyDrive/fda_bert_model/fda_bert_model/special_tokens_map.json  \n",
            "  inflating: /content/drive/MyDrive/fda_bert_model/fda_bert_model/vocab.txt  \n",
            "  inflating: /content/drive/MyDrive/fda_bert_model/fda_bert_model/config.json  \n",
            "  inflating: /content/drive/MyDrive/fda_bert_model/fda_bert_model/model.safetensors  \n"
          ]
        }
      ],
      "source": [
        "!unzip /content/drive/MyDrive/fda_bert_model.zip -d /content/drive/MyDrive/fda_bert_model"
      ]
    },
    {
      "cell_type": "code",
      "execution_count": 8,
      "metadata": {
        "colab": {
          "base_uri": "https://localhost:8080/"
        },
        "id": "syFggDQHq0P-",
        "outputId": "fd6909d7-d7c6-4c9f-b436-df56bb18c276"
      },
      "outputs": [
        {
          "output_type": "execute_result",
          "data": {
            "text/plain": [
              "BertForSequenceClassification(\n",
              "  (bert): BertModel(\n",
              "    (embeddings): BertEmbeddings(\n",
              "      (word_embeddings): Embedding(30522, 768, padding_idx=0)\n",
              "      (position_embeddings): Embedding(512, 768)\n",
              "      (token_type_embeddings): Embedding(2, 768)\n",
              "      (LayerNorm): LayerNorm((768,), eps=1e-12, elementwise_affine=True)\n",
              "      (dropout): Dropout(p=0.1, inplace=False)\n",
              "    )\n",
              "    (encoder): BertEncoder(\n",
              "      (layer): ModuleList(\n",
              "        (0-11): 12 x BertLayer(\n",
              "          (attention): BertAttention(\n",
              "            (self): BertSdpaSelfAttention(\n",
              "              (query): Linear(in_features=768, out_features=768, bias=True)\n",
              "              (key): Linear(in_features=768, out_features=768, bias=True)\n",
              "              (value): Linear(in_features=768, out_features=768, bias=True)\n",
              "              (dropout): Dropout(p=0.1, inplace=False)\n",
              "            )\n",
              "            (output): BertSelfOutput(\n",
              "              (dense): Linear(in_features=768, out_features=768, bias=True)\n",
              "              (LayerNorm): LayerNorm((768,), eps=1e-12, elementwise_affine=True)\n",
              "              (dropout): Dropout(p=0.1, inplace=False)\n",
              "            )\n",
              "          )\n",
              "          (intermediate): BertIntermediate(\n",
              "            (dense): Linear(in_features=768, out_features=3072, bias=True)\n",
              "            (intermediate_act_fn): GELUActivation()\n",
              "          )\n",
              "          (output): BertOutput(\n",
              "            (dense): Linear(in_features=3072, out_features=768, bias=True)\n",
              "            (LayerNorm): LayerNorm((768,), eps=1e-12, elementwise_affine=True)\n",
              "            (dropout): Dropout(p=0.1, inplace=False)\n",
              "          )\n",
              "        )\n",
              "      )\n",
              "    )\n",
              "    (pooler): BertPooler(\n",
              "      (dense): Linear(in_features=768, out_features=768, bias=True)\n",
              "      (activation): Tanh()\n",
              "    )\n",
              "  )\n",
              "  (dropout): Dropout(p=0.1, inplace=False)\n",
              "  (classifier): Linear(in_features=768, out_features=8, bias=True)\n",
              ")"
            ]
          },
          "metadata": {},
          "execution_count": 8
        }
      ],
      "source": [
        "from transformers import AutoTokenizer, AutoModelForSequenceClassification\n",
        "\n",
        "tokenizer = AutoTokenizer.from_pretrained(\"/content/drive/MyDrive/fda_bert_model/fda_bert_model\")\n",
        "model = AutoModelForSequenceClassification.from_pretrained(\"/content/drive/MyDrive/fda_bert_model/fda_bert_model\")\n",
        "model.eval().to(\"cuda\" if torch.cuda.is_available() else \"cpu\")\n"
      ]
    },
    {
      "cell_type": "code",
      "execution_count": 10,
      "metadata": {
        "colab": {
          "base_uri": "https://localhost:8080/"
        },
        "id": "9L9mnOHKus_a",
        "outputId": "dcf9d357-df69-43c6-e1be-b7299a430df3"
      },
      "outputs": [
        {
          "output_type": "stream",
          "name": "stdout",
          "text": [
            "{0: 'Portable Scanner', 1: 'Rack Scanner', 2: 'Embedded Device', 3: 'Software Only', 4: 'Cloud Service', 5: 'Hybrid Cloud'}\n"
          ]
        }
      ],
      "source": [
        "from transformers import AutoTokenizer, AutoModelForSequenceClassification\n",
        "\n",
        "model_path = \"/content/drive/MyDrive/fda_bert_model/fda_bert_model\"\n",
        "\n",
        "tokenizer = AutoTokenizer.from_pretrained(model_path)\n",
        "model = AutoModelForSequenceClassification.from_pretrained(model_path)\n",
        "\n",
        "\n",
        "id2label = {\n",
        "    0: \"Portable Scanner\",\n",
        "    1: \"Rack Scanner\",\n",
        "    2: \"Embedded Device\",\n",
        "    3: \"Software Only\",\n",
        "    4: \"Cloud Service\",\n",
        "    5: \"Hybrid Cloud\"\n",
        "}\n",
        "model.config.id2label = id2label\n",
        "model.config.label2id = {v: k for k, v in id2label.items()}\n",
        "print(model.config.id2label)"
      ]
    },
    {
      "cell_type": "code",
      "execution_count": 11,
      "metadata": {
        "colab": {
          "base_uri": "https://localhost:8080/",
          "height": 553,
          "referenced_widgets": [
            "166a80d1abdc49849f2d1ea16ab272c9",
            "709e88dc879541a784dbff55f6865f54",
            "129fefd7118345dfb43092636f89ca83",
            "0accaf7003e24bbb8676b4a1eed293e4",
            "b84cbd13c0744ba8be6c4926ec195d13",
            "c4bd3c464a624def98b35e32529a2e79",
            "df7b1f599c664cd184c18fbb475d260e",
            "2df47bb91b5a46319f29d4079adf1b65",
            "64652c18110a4a2682645ce7ef71db69",
            "ca72b4374067450f8c15a452032ec334",
            "31f4cf60e605464ebe4f6433b601ecff",
            "095c51a7eaa74438b6ab75d8bd87b30d",
            "66d24c9a10b74b14bcd5dc7a551871f1",
            "96841ef157624934b9247d564a57b449",
            "b47212a2e8934b05ad8511ccb7980530",
            "aeb0ea999ae5456aa4057f766ec8f1cc",
            "df9165d91c7940a5a40dc6adb841837f",
            "70702045118247f0a337fb1b008d39b9",
            "3432de06e02d4b6388ed9ae9c7161d5c",
            "0e424d14c46a49a0bc80cce741097c3c",
            "a9630e4e518f484eac770d9f5d8c4463",
            "ed7ab55d736047f0a6254bdfdfae9482",
            "a9f614e126f74fcdbe83e205b42e3f6e",
            "d5ddaed28c1d49c19c4d442d49c53d8d",
            "e51f4707eb5547bbb67514c97646e369",
            "3b4bd55ebe8c4b1fb618a81dbc11adc1",
            "eb25f5bb55e540e9868e3096cadd640a",
            "9a2701cb41174182bef9c8aa364c438c",
            "7e7a61afe72d4d4cacb70ba620eda801",
            "47ad4c1436c44f22bc9b79a5abe8ad53",
            "2c2f4f1697724547bf3b616295f3e19a",
            "5a890b7685204fb7adee7d93b3ff6a3c",
            "95dfc50a3322440486b258f02aa8db16",
            "1c277565a3dd4a9587a6cc37da39faa7",
            "5b5fbaf928344a9898409653267bdd95",
            "d42a31f61aa541b29d743ca90cbabcd2",
            "b94c8a8e5ca2460fbefd354141696666",
            "2e440fe847ea4c65b80e0d0397c708d7",
            "e44ceaf7472d48c0a2c5ef7fa234040e",
            "0a1408e923d94296ad03fcb7c25fe535",
            "ea77411bfc6f4a929ce715216d188f58",
            "0edd015fbef547df9ac01a4d57ebbc19",
            "8ebfcd4a1b7746cd884714ebed62e767",
            "8ceea330c9cb4f4ca232ac0302d91867",
            "1e548ad185a64b988d8196fabbf45fbd",
            "3ac46561c1da47098ac551df04587e37",
            "aa9b13c54d2e45978c823ac3ad78ca85",
            "4ca6a2f4a8a747d8af147ea25cc928ad",
            "9adcbed47a244c8cb681013434925d2f",
            "faf996d898964231b666762f1d9e5f13",
            "0f18df835cd7416a8dcb84c5729c73b8",
            "9ef4ca4846de4436b194f058aa648228",
            "440a61b1fa53402fbf0b8513743a6269",
            "6d8172ed27e04bb180b556df08e1afd8",
            "46a82befc97d43d58b45334337d6a9cd",
            "baad78a2f7534c9b877e349166bc8d3d",
            "f480592d76d44197a1977d0449f3b5ca",
            "5e08da6331b044a28b971aef5164aa22",
            "f5ac60857aa04803af23d1a1c298618b",
            "e1ff00886fce442ca639422469b3dbe7",
            "9bd3310f5fa8450e809b947cb207c0a1",
            "25375fffd9a3456aafeb8c59d3e22a61",
            "6520ce9d4c0a4fe1be4e07271fca1ee3",
            "900aac60793948a48fa0f87876ad54d4",
            "663fd03df4e2496594e5b9328d5faa06",
            "1ff1165a91e54f93a35c567b47ada7c4",
            "150791277c1b4c2db6365d2a0d4fec2e",
            "3ab92f19633b4c839e4111e23e88becc",
            "08d50da942114f2ea61899bafa7ea9cf",
            "2c127b81500b48c08594d5efe39e1e29",
            "291c4321f8a54aa388ec3e66284837b1",
            "f5ebd96512e44fd0a417f5cbf0ae0e58",
            "c84c4b31cac543518d286add28026a1c",
            "8a3add2b3b3f49fbb67d8a6cd0f16ed4",
            "e3b192a8e1874a759a88dc49d3e057a2",
            "b2037878c0fc45f9902d9963c73e1810",
            "0f0468c1f8484ae3954a045d874d3167",
            "83870a5a8c514170bf794b9f38090d1c",
            "ebc2a85e351e49fd8afb0a06670b36a0",
            "931a5d02e350421e934b5727573482c1",
            "5250b7c1fa6e41019f59b6c7626a6dce",
            "a95c34b41d5f4c1a91f9b05e2761a294",
            "a548e3d1d6524a279b3de7d8d0d60527",
            "6f3b9b1e3c6b4860911d8f0ee79b9ad7",
            "c4fb3dca94d24083a468e9015b5c5849",
            "31bc2fc680104e6d9442305216eeb0ba",
            "d88978b9f4954dd89bf58bb3e0908a65",
            "4a9a12a51816435f9d47b40163091698",
            "8cf5b40d9ef64717a15b0722376f060b",
            "6bd9abc9a9ea4950b80a67dcba600688",
            "02555a03f1464a57b1ad4355b62fdd35",
            "d77a1a6ded8e413c989b18e549d1d21e",
            "a3d76dc41218427ca0d801aca6edfcf0",
            "ad884cc89063489c98dc4c6285750eae",
            "a3ccd7e00a2f4c83ace44dc9b2181a0d",
            "e5b7c45bfc1e4606bc6db4d6d2bab346",
            "57e7b288d6554344a55b1d6a50655d4e",
            "a62de447ec4646bb9f29aa3b3304b7ed",
            "f3b09f0587904a82839ffe114e6c3848",
            "e564a5b3aee74583a13de3bc283dea2d",
            "ba20db38b9aa404896fe1f0a00cd5181",
            "1529610d3383407ba12f31005ab1c477",
            "11817d578e91471aa617e317f53d0ca9",
            "c20f9ab81e4c4b7eb93248e418076726",
            "fc95f0320918408aa591b0fe1da7fa09",
            "5af2b5518dfb4dcdac2e09de24a5d3a2",
            "ae3b4632535440f89f623b0b5ff671c0",
            "100d1f9c2ede43729d9ec92e6e16f900",
            "52fe84db807a4db1b0d55e70d7ed9dcf",
            "5c2762f6fa90480abc409f0b9e1419e0",
            "befdbd841c604189aefca1e5ac27cb4f",
            "d585d4281f4748cc8ebbd76f623f4c3a",
            "e8607ebeffba4beba1fd8805555a05c8",
            "87921108fdfe4d31ac715c08186fb80d",
            "e8c6945c9df14288b83961b8f6be9586",
            "258924efee9c4a3b8aef729f181a66a4",
            "6c89f0bc12394d41bf1e37032d639473",
            "3e394471649149d3a1c3180a51515416",
            "2fe995d4100c4562945da6d5f0789c87",
            "c4b8e0b1cc9146ed93beae90f4aa668a",
            "c71c4fa9bf2440d6bd33f5dc10df4e27"
          ]
        },
        "id": "HcpKmEoYJObW",
        "outputId": "6b3110f8-36f2-4159-821b-9ba5b7b42a6a"
      },
      "outputs": [
        {
          "output_type": "stream",
          "name": "stderr",
          "text": [
            "Device set to use cuda:0\n",
            "/usr/local/lib/python3.12/dist-packages/huggingface_hub/utils/_auth.py:94: UserWarning: \n",
            "The secret `HF_TOKEN` does not exist in your Colab secrets.\n",
            "To authenticate with the Hugging Face Hub, create a token in your settings tab (https://huggingface.co/settings/tokens), set it as secret in your Google Colab and restart your session.\n",
            "You will be able to reuse this secret in all of your notebooks.\n",
            "Please note that authentication is recommended but still optional to access public models or datasets.\n",
            "  warnings.warn(\n"
          ]
        },
        {
          "output_type": "display_data",
          "data": {
            "text/plain": [
              "modules.json:   0%|          | 0.00/349 [00:00<?, ?B/s]"
            ],
            "application/vnd.jupyter.widget-view+json": {
              "version_major": 2,
              "version_minor": 0,
              "model_id": "166a80d1abdc49849f2d1ea16ab272c9"
            }
          },
          "metadata": {}
        },
        {
          "output_type": "display_data",
          "data": {
            "text/plain": [
              "config_sentence_transformers.json:   0%|          | 0.00/116 [00:00<?, ?B/s]"
            ],
            "application/vnd.jupyter.widget-view+json": {
              "version_major": 2,
              "version_minor": 0,
              "model_id": "095c51a7eaa74438b6ab75d8bd87b30d"
            }
          },
          "metadata": {}
        },
        {
          "output_type": "display_data",
          "data": {
            "text/plain": [
              "README.md: 0.00B [00:00, ?B/s]"
            ],
            "application/vnd.jupyter.widget-view+json": {
              "version_major": 2,
              "version_minor": 0,
              "model_id": "a9f614e126f74fcdbe83e205b42e3f6e"
            }
          },
          "metadata": {}
        },
        {
          "output_type": "display_data",
          "data": {
            "text/plain": [
              "sentence_bert_config.json:   0%|          | 0.00/53.0 [00:00<?, ?B/s]"
            ],
            "application/vnd.jupyter.widget-view+json": {
              "version_major": 2,
              "version_minor": 0,
              "model_id": "1c277565a3dd4a9587a6cc37da39faa7"
            }
          },
          "metadata": {}
        },
        {
          "output_type": "display_data",
          "data": {
            "text/plain": [
              "config.json:   0%|          | 0.00/612 [00:00<?, ?B/s]"
            ],
            "application/vnd.jupyter.widget-view+json": {
              "version_major": 2,
              "version_minor": 0,
              "model_id": "1e548ad185a64b988d8196fabbf45fbd"
            }
          },
          "metadata": {}
        },
        {
          "output_type": "display_data",
          "data": {
            "text/plain": [
              "model.safetensors:   0%|          | 0.00/90.9M [00:00<?, ?B/s]"
            ],
            "application/vnd.jupyter.widget-view+json": {
              "version_major": 2,
              "version_minor": 0,
              "model_id": "baad78a2f7534c9b877e349166bc8d3d"
            }
          },
          "metadata": {}
        },
        {
          "output_type": "display_data",
          "data": {
            "text/plain": [
              "tokenizer_config.json:   0%|          | 0.00/350 [00:00<?, ?B/s]"
            ],
            "application/vnd.jupyter.widget-view+json": {
              "version_major": 2,
              "version_minor": 0,
              "model_id": "150791277c1b4c2db6365d2a0d4fec2e"
            }
          },
          "metadata": {}
        },
        {
          "output_type": "display_data",
          "data": {
            "text/plain": [
              "vocab.txt: 0.00B [00:00, ?B/s]"
            ],
            "application/vnd.jupyter.widget-view+json": {
              "version_major": 2,
              "version_minor": 0,
              "model_id": "83870a5a8c514170bf794b9f38090d1c"
            }
          },
          "metadata": {}
        },
        {
          "output_type": "display_data",
          "data": {
            "text/plain": [
              "tokenizer.json: 0.00B [00:00, ?B/s]"
            ],
            "application/vnd.jupyter.widget-view+json": {
              "version_major": 2,
              "version_minor": 0,
              "model_id": "8cf5b40d9ef64717a15b0722376f060b"
            }
          },
          "metadata": {}
        },
        {
          "output_type": "display_data",
          "data": {
            "text/plain": [
              "special_tokens_map.json:   0%|          | 0.00/112 [00:00<?, ?B/s]"
            ],
            "application/vnd.jupyter.widget-view+json": {
              "version_major": 2,
              "version_minor": 0,
              "model_id": "e564a5b3aee74583a13de3bc283dea2d"
            }
          },
          "metadata": {}
        },
        {
          "output_type": "display_data",
          "data": {
            "text/plain": [
              "config.json:   0%|          | 0.00/190 [00:00<?, ?B/s]"
            ],
            "application/vnd.jupyter.widget-view+json": {
              "version_major": 2,
              "version_minor": 0,
              "model_id": "befdbd841c604189aefca1e5ac27cb4f"
            }
          },
          "metadata": {}
        },
        {
          "output_type": "stream",
          "name": "stdout",
          "text": [
            "Loaded model with 6 classes\n",
            "Label mapping: {0: 'Portable Scanner', 1: 'Rack Scanner', 2: 'Embedded Device', 3: 'Software Only', 4: 'Cloud Service', 5: 'Hybrid Cloud'}\n"
          ]
        }
      ],
      "source": [
        "from transformers import pipeline\n",
        "\n",
        "clf_pipeline = pipeline(\"text-classification\", model=model, tokenizer=tokenizer, device=device)\n",
        "embedder = SentenceTransformer(\"all-MiniLM-L6-v2\")\n",
        "print(\"Loaded model with\", model.config.num_labels, \"classes\")\n",
        "print(\"Label mapping:\", model.config.id2label)"
      ]
    },
    {
      "cell_type": "code",
      "execution_count": 12,
      "metadata": {
        "id": "u8HCmMtvJWRI"
      },
      "outputs": [],
      "source": [
        "CATEGORY_KEYWORDS = {\n",
        "    \"Hardware\": [\"probe\", \"sensor\", \"ultrasound\", \"scanner\", \"device\", \"unit\", \"hardware\"],\n",
        "    \"Software Components\": [\"app\", \"module\", \"software\", \"system\", \"dashboard\", \"firmware\"],\n",
        "    \"AI Models\": [\"ai\", \"ml\", \"classifier\", \"neural\", \"bert\", \"deep learning\", \"model\"],\n",
        "    \"Data Pipelines\": [\"FHIR\", \"ETL\", \"stream\", \"cloud\", \"data ingestion\", \"API\"],\n",
        "    \"User Interface\": [\"UI\", \"interface\", \"touchscreen\", \"display\", \"user input\", \"dashboard\"],\n",
        "    \"Integration\": [\"EHR\", \"PACS\", \"HL7\", \"connect\", \"integration\", \"platform\"]\n",
        "}\n",
        "CATEGORY_EMBEDDINGS = {\n",
        "    category: embedder.encode(words, convert_to_tensor=True)\n",
        "    for category, words in CATEGORY_KEYWORDS.items()\n",
        "}"
      ]
    },
    {
      "cell_type": "code",
      "execution_count": 13,
      "metadata": {
        "id": "A7aFPj4TJcAX"
      },
      "outputs": [],
      "source": [
        "def extract_pdf_text(pdf_path):\n",
        "    doc = fitz.open(pdf_path)\n",
        "    return \"\\n\".join([page.get_text() for page in doc])\n",
        "\n",
        "def get_all_internal_links(start_url, domain, max_pages=5, timeout=6):\n",
        "    visited = set()\n",
        "    to_visit = [start_url]\n",
        "    found = []\n",
        "\n",
        "    while to_visit and len(found) < max_pages:\n",
        "        url = to_visit.pop(0)  # FIFO for breadth-first crawling\n",
        "        if url in visited:\n",
        "            continue\n",
        "        visited.add(url)\n",
        "\n",
        "        try:\n",
        "            res = requests.get(url, timeout=timeout, headers={\"User-Agent\": \"Mozilla/5.0\"})\n",
        "            if res.status_code != 200 or \"text/html\" not in res.headers.get(\"Content-Type\", \"\"):\n",
        "                continue\n",
        "\n",
        "            soup = BeautifulSoup(res.text, \"html.parser\")\n",
        "            text = soup.get_text(separator=\" \", strip=True)\n",
        "            text = re.sub(r\"\\s+\", \" \", text)\n",
        "            found.append((url, text))\n",
        "\n",
        "            for a in soup.find_all(\"a\", href=True):\n",
        "                full_url = urljoin(url, a[\"href\"])\n",
        "                if (\n",
        "                    full_url.startswith((\"http://\", \"https://\"))\n",
        "                    and urlparse(full_url).netloc == domain\n",
        "                    and full_url not in visited\n",
        "                ):\n",
        "                    to_visit.append(full_url)\n",
        "\n",
        "        except requests.RequestException:\n",
        "            continue\n",
        "\n",
        "    return found\n",
        "\n",
        "\n",
        "def extract_design_with_bert(text):\n",
        "    chunks = [text[i:i+1500] for i in range(0, len(text), 1500)]\n",
        "    preds = []\n",
        "    for chunk in chunks:\n",
        "        result = clf_pipeline(chunk)[0]  # returns {\"label\": \"...\", \"score\": ...}\n",
        "        preds.append(result[\"label\"])\n",
        "    return list(set(preds))"
      ]
    },
    {
      "cell_type": "code",
      "execution_count": 14,
      "metadata": {
        "id": "zcADxILQJjnG"
      },
      "outputs": [],
      "source": [
        "def normalize_keywords(raw_texts):\n",
        "    bag = set()\n",
        "    for raw in raw_texts:\n",
        "        if not raw:\n",
        "            continue\n",
        "        parts = re.split(r\"[,;\\n]+\", raw)\n",
        "        for p in parts:\n",
        "            kw = re.sub(r\"\\s+\", \" \", p).strip(\" -–—_,.;:()[]\").strip()\n",
        "            if kw and 2 <= len(kw) < 120:\n",
        "                bag.add(kw.lower())\n",
        "    return sorted(bag)\n",
        "\n",
        "def classify_keyword(keyword):\n",
        "    kw_vec = embedder.encode(keyword, convert_to_tensor=True)\n",
        "    max_sim = -1\n",
        "    best_cat = \"Uncategorized\"\n",
        "    for category, emb_list in CATEGORY_EMBEDDINGS.items():\n",
        "        sim_scores = util.cos_sim(kw_vec, emb_list)\n",
        "        top_score = sim_scores.max().item()\n",
        "        if top_score > max_sim:\n",
        "            max_sim = top_score\n",
        "            best_cat = category\n",
        "    return best_cat\n",
        "\n",
        "def classify_keywords_bulk(keywords):\n",
        "    result = {k: [] for k in CATEGORY_KEYWORDS}\n",
        "    result[\"Uncategorized\"] = []\n",
        "    for kw in keywords:\n",
        "        cat = classify_keyword(kw)\n",
        "        result[cat].append(kw)\n",
        "    return result\n",
        "\n",
        "def format_to_markdown_table(classified):\n",
        "    md = \"| Category | Keywords (comma separated) |\\n|----------|------------------------------|\\n\"\n",
        "    for cat in list(CATEGORY_KEYWORDS.keys()) + [\"Uncategorized\"]:\n",
        "        kws = \", \".join(sorted(set(classified.get(cat, []))))\n",
        "        md += f\"| {cat} | {kws} |\\n\"\n",
        "    return md"
      ]
    },
    {
      "cell_type": "code",
      "execution_count": 15,
      "metadata": {
        "colab": {
          "base_uri": "https://localhost:8080/",
          "height": 73
        },
        "id": "A6Y6KUzjJqgo",
        "outputId": "c2451ec6-0182-4564-c826-30233adb3dbe"
      },
      "outputs": [
        {
          "output_type": "display_data",
          "data": {
            "text/plain": [
              "<IPython.core.display.HTML object>"
            ],
            "text/html": [
              "\n",
              "     <input type=\"file\" id=\"files-5b671c24-9eb5-4e44-8f50-6c756996232c\" name=\"files[]\" multiple disabled\n",
              "        style=\"border:none\" />\n",
              "     <output id=\"result-5b671c24-9eb5-4e44-8f50-6c756996232c\">\n",
              "      Upload widget is only available when the cell has been executed in the\n",
              "      current browser session. Please rerun this cell to enable.\n",
              "      </output>\n",
              "      <script>// Copyright 2017 Google LLC\n",
              "//\n",
              "// Licensed under the Apache License, Version 2.0 (the \"License\");\n",
              "// you may not use this file except in compliance with the License.\n",
              "// You may obtain a copy of the License at\n",
              "//\n",
              "//      http://www.apache.org/licenses/LICENSE-2.0\n",
              "//\n",
              "// Unless required by applicable law or agreed to in writing, software\n",
              "// distributed under the License is distributed on an \"AS IS\" BASIS,\n",
              "// WITHOUT WARRANTIES OR CONDITIONS OF ANY KIND, either express or implied.\n",
              "// See the License for the specific language governing permissions and\n",
              "// limitations under the License.\n",
              "\n",
              "/**\n",
              " * @fileoverview Helpers for google.colab Python module.\n",
              " */\n",
              "(function(scope) {\n",
              "function span(text, styleAttributes = {}) {\n",
              "  const element = document.createElement('span');\n",
              "  element.textContent = text;\n",
              "  for (const key of Object.keys(styleAttributes)) {\n",
              "    element.style[key] = styleAttributes[key];\n",
              "  }\n",
              "  return element;\n",
              "}\n",
              "\n",
              "// Max number of bytes which will be uploaded at a time.\n",
              "const MAX_PAYLOAD_SIZE = 100 * 1024;\n",
              "\n",
              "function _uploadFiles(inputId, outputId) {\n",
              "  const steps = uploadFilesStep(inputId, outputId);\n",
              "  const outputElement = document.getElementById(outputId);\n",
              "  // Cache steps on the outputElement to make it available for the next call\n",
              "  // to uploadFilesContinue from Python.\n",
              "  outputElement.steps = steps;\n",
              "\n",
              "  return _uploadFilesContinue(outputId);\n",
              "}\n",
              "\n",
              "// This is roughly an async generator (not supported in the browser yet),\n",
              "// where there are multiple asynchronous steps and the Python side is going\n",
              "// to poll for completion of each step.\n",
              "// This uses a Promise to block the python side on completion of each step,\n",
              "// then passes the result of the previous step as the input to the next step.\n",
              "function _uploadFilesContinue(outputId) {\n",
              "  const outputElement = document.getElementById(outputId);\n",
              "  const steps = outputElement.steps;\n",
              "\n",
              "  const next = steps.next(outputElement.lastPromiseValue);\n",
              "  return Promise.resolve(next.value.promise).then((value) => {\n",
              "    // Cache the last promise value to make it available to the next\n",
              "    // step of the generator.\n",
              "    outputElement.lastPromiseValue = value;\n",
              "    return next.value.response;\n",
              "  });\n",
              "}\n",
              "\n",
              "/**\n",
              " * Generator function which is called between each async step of the upload\n",
              " * process.\n",
              " * @param {string} inputId Element ID of the input file picker element.\n",
              " * @param {string} outputId Element ID of the output display.\n",
              " * @return {!Iterable<!Object>} Iterable of next steps.\n",
              " */\n",
              "function* uploadFilesStep(inputId, outputId) {\n",
              "  const inputElement = document.getElementById(inputId);\n",
              "  inputElement.disabled = false;\n",
              "\n",
              "  const outputElement = document.getElementById(outputId);\n",
              "  outputElement.innerHTML = '';\n",
              "\n",
              "  const pickedPromise = new Promise((resolve) => {\n",
              "    inputElement.addEventListener('change', (e) => {\n",
              "      resolve(e.target.files);\n",
              "    });\n",
              "  });\n",
              "\n",
              "  const cancel = document.createElement('button');\n",
              "  inputElement.parentElement.appendChild(cancel);\n",
              "  cancel.textContent = 'Cancel upload';\n",
              "  const cancelPromise = new Promise((resolve) => {\n",
              "    cancel.onclick = () => {\n",
              "      resolve(null);\n",
              "    };\n",
              "  });\n",
              "\n",
              "  // Wait for the user to pick the files.\n",
              "  const files = yield {\n",
              "    promise: Promise.race([pickedPromise, cancelPromise]),\n",
              "    response: {\n",
              "      action: 'starting',\n",
              "    }\n",
              "  };\n",
              "\n",
              "  cancel.remove();\n",
              "\n",
              "  // Disable the input element since further picks are not allowed.\n",
              "  inputElement.disabled = true;\n",
              "\n",
              "  if (!files) {\n",
              "    return {\n",
              "      response: {\n",
              "        action: 'complete',\n",
              "      }\n",
              "    };\n",
              "  }\n",
              "\n",
              "  for (const file of files) {\n",
              "    const li = document.createElement('li');\n",
              "    li.append(span(file.name, {fontWeight: 'bold'}));\n",
              "    li.append(span(\n",
              "        `(${file.type || 'n/a'}) - ${file.size} bytes, ` +\n",
              "        `last modified: ${\n",
              "            file.lastModifiedDate ? file.lastModifiedDate.toLocaleDateString() :\n",
              "                                    'n/a'} - `));\n",
              "    const percent = span('0% done');\n",
              "    li.appendChild(percent);\n",
              "\n",
              "    outputElement.appendChild(li);\n",
              "\n",
              "    const fileDataPromise = new Promise((resolve) => {\n",
              "      const reader = new FileReader();\n",
              "      reader.onload = (e) => {\n",
              "        resolve(e.target.result);\n",
              "      };\n",
              "      reader.readAsArrayBuffer(file);\n",
              "    });\n",
              "    // Wait for the data to be ready.\n",
              "    let fileData = yield {\n",
              "      promise: fileDataPromise,\n",
              "      response: {\n",
              "        action: 'continue',\n",
              "      }\n",
              "    };\n",
              "\n",
              "    // Use a chunked sending to avoid message size limits. See b/62115660.\n",
              "    let position = 0;\n",
              "    do {\n",
              "      const length = Math.min(fileData.byteLength - position, MAX_PAYLOAD_SIZE);\n",
              "      const chunk = new Uint8Array(fileData, position, length);\n",
              "      position += length;\n",
              "\n",
              "      const base64 = btoa(String.fromCharCode.apply(null, chunk));\n",
              "      yield {\n",
              "        response: {\n",
              "          action: 'append',\n",
              "          file: file.name,\n",
              "          data: base64,\n",
              "        },\n",
              "      };\n",
              "\n",
              "      let percentDone = fileData.byteLength === 0 ?\n",
              "          100 :\n",
              "          Math.round((position / fileData.byteLength) * 100);\n",
              "      percent.textContent = `${percentDone}% done`;\n",
              "\n",
              "    } while (position < fileData.byteLength);\n",
              "  }\n",
              "\n",
              "  // All done.\n",
              "  yield {\n",
              "    response: {\n",
              "      action: 'complete',\n",
              "    }\n",
              "  };\n",
              "}\n",
              "\n",
              "scope.google = scope.google || {};\n",
              "scope.google.colab = scope.google.colab || {};\n",
              "scope.google.colab._files = {\n",
              "  _uploadFiles,\n",
              "  _uploadFilesContinue,\n",
              "};\n",
              "})(self);\n",
              "</script> "
            ]
          },
          "metadata": {}
        },
        {
          "output_type": "stream",
          "name": "stdout",
          "text": [
            "Saving K250005.pdf to K250005.pdf\n"
          ]
        }
      ],
      "source": [
        "from google.colab import files\n",
        "uploaded = files.upload()\n",
        "pdf_path = list(uploaded.keys())[0]"
      ]
    },
    {
      "cell_type": "code",
      "execution_count": 16,
      "metadata": {
        "colab": {
          "base_uri": "https://localhost:8080/"
        },
        "id": "PwzZ_vi0Jy8i",
        "outputId": "3fa5d562-3be2-4a95-a13c-4dc12bb998f9"
      },
      "outputs": [
        {
          "output_type": "stream",
          "name": "stdout",
          "text": [
            "\n",
            " Extracting from PDF...\n"
          ]
        },
        {
          "output_type": "stream",
          "name": "stderr",
          "text": [
            "You seem to be using the pipelines sequentially on GPU. In order to maximize efficiency please use a dataset\n"
          ]
        },
        {
          "output_type": "stream",
          "name": "stdout",
          "text": [
            " PDF: Cloud Service\n",
            " PDF: Portable Scanner\n"
          ]
        }
      ],
      "source": [
        "print(\"\\n Extracting from PDF...\")\n",
        "pdf_text = extract_pdf_text(pdf_path)\n",
        "pdf_design_info = extract_design_with_bert(pdf_text)\n",
        "for para in pdf_design_info:\n",
        "    print(f\" PDF: {para}\")"
      ]
    },
    {
      "cell_type": "code",
      "execution_count": 17,
      "metadata": {
        "id": "ZL7CmvTKJ_l3"
      },
      "outputs": [],
      "source": [
        "pdf_keywords = normalize_keywords(pdf_design_info)"
      ]
    },
    {
      "cell_type": "code",
      "execution_count": 18,
      "metadata": {
        "colab": {
          "base_uri": "https://localhost:8080/"
        },
        "id": "jkUIXzbEKAhD",
        "outputId": "edaca46e-a749-4945-9179-355a3fb7117d"
      },
      "outputs": [
        {
          "output_type": "stream",
          "name": "stdout",
          "text": [
            "\n",
            " Enter official device website URL (or press Enter to skip): https://rivannamedical.com/\n",
            " https://rivannamedical.com/: Cloud Service\n",
            " https://rivannamedical.com/: Portable Scanner\n",
            " https://rivannamedical.com/why-accuro/: Cloud Service\n",
            " https://rivannamedical.com/why-accuro/: Portable Scanner\n",
            " https://rivannamedical.com/locator-kit/: Portable Scanner\n",
            " https://rivannamedical.com/locator-kit/: Hybrid Cloud\n",
            " https://rivannamedical.com/true-view/: Cloud Service\n",
            " https://rivannamedical.com/true-view/: Portable Scanner\n",
            " https://rivannamedical.com/true-view/: Hybrid Cloud\n",
            " https://rivannamedical.com/accuro-trolley/: Portable Scanner\n",
            " https://rivannamedical.com/accuro-resources/: Cloud Service\n",
            " https://rivannamedical.com/accuro-resources/: Portable Scanner\n",
            " https://rivannamedical.com/testimonials/: Cloud Service\n",
            " https://rivannamedical.com/testimonials/: Portable Scanner\n",
            " https://rivannamedical.com/clinical-value/: Cloud Service\n",
            " https://rivannamedical.com/clinical-value/: Portable Scanner\n",
            " https://rivannamedical.com/clinical-value/: Hybrid Cloud\n",
            " https://rivannamedical.com/news/: Cloud Service\n",
            " https://rivannamedical.com/news/: Portable Scanner\n",
            " https://rivannamedical.com/upgrade/: Portable Scanner\n"
          ]
        }
      ],
      "source": [
        "website_url = input(\"\\n Enter official device website URL (or press Enter to skip): \").strip()\n",
        "web_keywords = []\n",
        "if website_url:\n",
        "    domain = urlparse(website_url).netloc\n",
        "    webpages = get_all_internal_links(website_url, domain, 10, 10)\n",
        "    for url, content in webpages:\n",
        "        design_info = extract_design_with_bert(content)\n",
        "        for chunk in design_info:\n",
        "            print(f\" {url}: {chunk}\")\n",
        "        web_keywords += normalize_keywords(design_info)"
      ]
    },
    {
      "cell_type": "code",
      "execution_count": 19,
      "metadata": {
        "colab": {
          "base_uri": "https://localhost:8080/"
        },
        "id": "s1dOo114OKuK",
        "outputId": "b0925d30-7643-4184-bd35-2a1795223591"
      },
      "outputs": [
        {
          "output_type": "stream",
          "name": "stdout",
          "text": [
            "['cloud service', 'hybrid cloud', 'portable scanner']\n"
          ]
        }
      ],
      "source": [
        "all_keywords = sorted(set(pdf_keywords + web_keywords))\n",
        "print(all_keywords)"
      ]
    },
    {
      "cell_type": "code",
      "execution_count": 20,
      "metadata": {
        "colab": {
          "base_uri": "https://localhost:8080/"
        },
        "id": "rifoyIlvOSxJ",
        "outputId": "6b2b6818-112f-4875-9eb1-ae85cef118b9"
      },
      "outputs": [
        {
          "output_type": "stream",
          "name": "stdout",
          "text": [
            "\n",
            " Classified Keywords Table:\n",
            "\n",
            "| Category | Keywords (comma separated) |\n",
            "|----------|------------------------------|\n",
            "| Hardware | portable scanner |\n",
            "| Software Components |  |\n",
            "| AI Models |  |\n",
            "| Data Pipelines | cloud service, hybrid cloud |\n",
            "| User Interface |  |\n",
            "| Integration |  |\n",
            "| Uncategorized |  |\n",
            "\n"
          ]
        }
      ],
      "source": [
        "classified = classify_keywords_bulk(all_keywords)\n",
        "print(\"\\n Classified Keywords Table:\\n\")\n",
        "print(format_to_markdown_table(classified))"
      ]
    }
  ],
  "metadata": {
    "colab": {
      "provenance": [],
      "gpuType": "T4"
    },
    "kernelspec": {
      "display_name": "Python 3",
      "name": "python3"
    },
    "language_info": {
      "name": "python"
    },
    "accelerator": "GPU"
  },
  "nbformat": 4,
  "nbformat_minor": 0
}